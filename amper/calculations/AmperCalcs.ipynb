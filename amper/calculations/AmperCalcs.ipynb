{
 "cells": [
  {
   "cell_type": "code",
   "execution_count": null,
   "metadata": {
    "collapsed": true
   },
   "outputs": [],
   "source": [
    "import math\n"
   ]
  },
  {
   "cell_type": "markdown",
   "metadata": {},
   "source": [
    "Gsc = Solar constant \n",
    "\n",
    "φ = Latitude \n",
    "\n",
    "L = Longitude \n",
    "\n",
    "δ = Declination -> **-23.45°≤δ≤23.45°** \n",
    "\n",
    "ω = Hour angle -> **-180°≤ω≤180°** \n",
    "\n",
    "hs = Sun altitude \n",
    "\n",
    "γ = Solar azimuth \n",
    "\n",
    "θz = Zenith Angle -> **0° ≤ θz ≤ 90°** \n",
    "\n",
    "Gon = Exact irradiation incident on a surface θ outside the atmosphere \n",
    "\n",
    "τb = Transmision Beam radiation \n",
    "\n",
    "τd = Transmision diffuse radiation \n",
    "\n",
    "Gcb = Beam radiation \n",
    "\n"
   ]
  },
  {
   "cell_type": "markdown",
   "metadata": {},
   "source": [
    "Solar constant\n",
    "\n",
    "![title](http://i.imgur.com/UqAn4ZB.png)\n",
    "\n",
    "\n",
    "σ = 5.67*10^-8 W/m^2.k^4 Stefan Boltzmann constant\n",
    "\n",
    "R = 696*10^6m Sun radiuses\n",
    "\n",
    "D = 150 * 10^9 is the avg distance between sun and earth"
   ]
  },
  {
   "cell_type": "code",
   "execution_count": null,
   "metadata": {
    "collapsed": true
   },
   "outputs": [],
   "source": [
    "solar_constant = 1367  # W/m^2\n"
   ]
  },
  {
   "cell_type": "markdown",
   "metadata": {},
   "source": [
    "Sun position \n",
    "\n",
    "=> α=90-Φ+δ"
   ]
  },
  {
   "cell_type": "code",
   "execution_count": 7,
   "metadata": {
    "collapsed": true
   },
   "outputs": [],
   "source": [
    "def sun_position(latitude, declination):\n",
    "    return 90 - latitude + declination\n"
   ]
  },
  {
   "cell_type": "markdown",
   "metadata": {},
   "source": []
  },
  {
   "cell_type": "markdown",
   "metadata": {},
   "source": [
    "Where declination is calculated as\n",
    "\n",
    "=> δ= 23.45° ⋅ Sin[ 360/365 (284+d)] \n",
    "\n",
    "and 284 is an adjustation value as declination not being zero on January "
   ]
  },
  {
   "cell_type": "code",
   "execution_count": 8,
   "metadata": {
    "collapsed": true
   },
   "outputs": [],
   "source": [
    "def declination(day):\n",
    "    return 23.45 * math.sin((360 / 365) * (284 + day))\n"
   ]
  },
  {
   "cell_type": "markdown",
   "metadata": {},
   "source": [
    "The hour angle is the derivation of the sun's angle from south:\n",
    "\n",
    "=> ω = 15° ⋅ (SolarTime - 12)"
   ]
  },
  {
   "cell_type": "code",
   "execution_count": 9,
   "metadata": {
    "collapsed": true
   },
   "outputs": [],
   "source": [
    "def hour_angle(solar_time):\n",
    "    return 15 * (solar_time - 12)\n"
   ]
  },
  {
   "cell_type": "markdown",
   "metadata": {},
   "source": [
    "Where solar time is calculated as:\n",
    "\n",
    "=> E = 229.2 ⋅ (0.000075 + 0.001868 cosB − 0.032077 ⋅ sinB−0.014615 ⋅  cos2B − 0.04089 ⋅ sin2B)\n",
    "\n",
    "=> B = (n - 1) ⋅ 360/365\n",
    "\n",
    "=> SolarTime = StandardTime + 4(Lst - Lloc) + E\n",
    "\n",
    "Lst = Standard meridian for the local timezone\n",
    "Lloc = Longitude of the location\n",
    "\n",
    "Reference: https://en.wikipedia.org/wiki/Equation_of_time"
   ]
  },
  {
   "cell_type": "code",
   "execution_count": 1,
   "metadata": {
    "collapsed": true
   },
   "outputs": [],
   "source": [
    "def e(day):\n",
    "    B = (day - 1) * 360 / 365\n",
    "    return 229.2 * (0.000075 + 0.001868 * math.cos(B) * math.sin(B) - 0.014615\n",
    "                    * math.cos(2 * B) - 0.04089 * math.sin(2 * B))\n",
    "\n",
    "\n",
    "def solar_time(std_time, std_meridian, longitude, day):\n",
    "    return std_time + ((4 * (std_meridian - longitude) + e(day)) / 60)\n"
   ]
  },
  {
   "cell_type": "markdown",
   "metadata": {},
   "source": [
    "Solar altitude:\n",
    "\n",
    "=> hs = Arcsin[cos(φ) * cos(δ) * cos(ω) + sin(φ)*sin(δ)]"
   ]
  },
  {
   "cell_type": "code",
   "execution_count": null,
   "metadata": {
    "collapsed": true
   },
   "outputs": [],
   "source": [
    "def sun_altitude(latitude, declination, hour_angle):\n",
    "    return math.asin(math.cos(latitude) * math.cos(declination) * math.cos(hour_angle) \\\n",
    "                     + math.sin(latitude) * math.sin(declination))\n"
   ]
  },
  {
   "cell_type": "markdown",
   "metadata": {},
   "source": [
    "Solar azimuth:\n",
    "\n",
    "=> γ = Arcsin[(cos(δ) ⋅ sin(ω))/cos(hs)]"
   ]
  },
  {
   "cell_type": "code",
   "execution_count": null,
   "metadata": {
    "collapsed": true
   },
   "outputs": [],
   "source": [
    "def azimuth(declination, hour_angle, sun_altitude):\n",
    "    return math.asin((math.cos(declination) * math.sin(hour_angle)) / math.cos(sun_altitude))\n"
   ]
  },
  {
   "cell_type": "markdown",
   "metadata": {},
   "source": [
    "Zenith angle:\n",
    "\n",
    "=> cosθz = cosφ⋅cosδ⋅cosω+sinφ⋅sinδ"
   ]
  },
  {
   "cell_type": "code",
   "execution_count": null,
   "metadata": {
    "collapsed": true
   },
   "outputs": [],
   "source": [
    "def zenith_angle(latitude, declination, hour_angle):\n",
    "    return math.cos(latitude) * math.cos(declination) * math.cos(hour_angle) + math.sin(latitude) * math.sin(\n",
    "        declination)\n"
   ]
  },
  {
   "cell_type": "markdown",
   "metadata": {},
   "source": [
    "Radiation outside atmosphere:\n",
    "\n",
    "=> Gon = Gsc * (1 + 0.033 ⋅ cos((360⋅n)/365))"
   ]
  },
  {
   "cell_type": "code",
   "execution_count": null,
   "metadata": {
    "collapsed": true
   },
   "outputs": [],
   "source": [
    "def radiation_outside_atmosphere(day):\n",
    "    return solar_constant * (1 + 0.033 * math.cos((360 * day) / 365))\n"
   ]
  },
  {
   "cell_type": "markdown",
   "metadata": {},
   "source": [
    "Thau beam:\n",
    "\n",
    "=> τb = Gcb / Go = a0 + a1 ⋅ e^(-K/cosθz)\n",
    "\n",
    "Beam radiation:\n",
    "\n",
    "=> Gcb = τb ⋅ Gon ⋅ (cosφ ⋅ cosδ ⋅ cosω + sinφ ⋅ sinδ)\n",
    "\n",
    "Let's define some constants:\n",
    "\n",
    "a0 = 0,4237 - 0.00821 ⋅ (6-A)^2\n",
    "a1 = 0,5055 - 0.00595 ⋅ (6.5-A)^2\n",
    "k = 0.2711 + 0.01858 ⋅ (2.5-A)^2\n",
    "\n",
    "Where A is the altitude above the sea level (in km)."
   ]
  },
  {
   "cell_type": "code",
   "execution_count": null,
   "metadata": {
    "collapsed": true
   },
   "outputs": [],
   "source": [
    "def transmission_beam(altitude, zenith_angle):\n",
    "    a0 = 0.4237 - 0.00821 * (6 - altitude) ** 2\n",
    "    a1 = 0.5055 - 0.00595 * (6.5 - altitude) ** 2\n",
    "    k = 0.2711 + 0.01858 * (2.5 - altitude) ** 2\n",
    "\n",
    "    return a0 + a1 * (math.e ** (-k / math.cos(zenith_angle)))\n",
    "\n",
    "\n",
    "def beam_radiation(t_beam, rad_outside_atmosphere, latitude, declination, hour_angle):\n",
    "    return t_beam * rad_outside_atmosphere * (\n",
    "        math.cos(latitude) * math.cos(declination) * math.cos(hour_angle) + math.sin(latitude) * math.sin(\n",
    "            declination))\n"
   ]
  },
  {
   "cell_type": "markdown",
   "metadata": {},
   "source": [
    "Transimion diffuse radiation:\n",
    "\n",
    "=> τd = 0.271 - 0.294 ⋅ τb\n",
    "\n",
    "Diffuse Radiation:\n",
    "\n",
    "=> Gcd = τd ⋅ Gon ⋅ (cosφ ⋅ cosδ ⋅ cosω + sinφ ⋅ sinδ)"
   ]
  },
  {
   "cell_type": "code",
   "execution_count": 2,
   "metadata": {
    "collapsed": true
   },
   "outputs": [],
   "source": [
    "def transmission_diffuse_radiation(transmission_beam):\n",
    "    return 0.271 - 0.294 * transmission_beam\n",
    "\n",
    "\n",
    "def diffuse_radiation(t_diffuse_radiation, rad_outside_atmosphere, latitude, declination, hour_angle):\n",
    "    return t_diffuse_radiation * rad_outside_atmosphere * (math.cos(latitude) * math.cos(declination)\n",
    "                                                           * math.cos(hour_angle) + math.sin(latitude)\n",
    "                                                           * math.sin(declination))\n"
   ]
  },
  {
   "cell_type": "markdown",
   "metadata": {},
   "source": [
    "Total radiation received on horizontal at ground surface at a clear day:\n",
    "\n",
    "=> Gc = (τb +τd)⋅Gsc⋅(1+0.033⋅cos(360⋅n)/365)⋅(cosφ⋅cosδ⋅cosω+sinφ⋅sinδ)"
   ]
  },
  {
   "cell_type": "code",
   "execution_count": 5,
   "metadata": {},
   "outputs": [],
   "source": [
    "def total_radiation_day(transmission_beam, transmission_diffuse_radiation, latitude, declination, hour_angle, day):\n",
    "    transmissions_sum = transmission_beam + transmission_diffuse_radiation\n",
    "\n",
    "    return transmissions_sum * solar_constant * (\n",
    "        1 + 0.033 * math.cos((360 * day) / 365) * (math.cos(latitude) * math.cos(declination)\n",
    "                                                   * math.cos(hour_angle) + math.sin(latitude)\n",
    "                                                   * math.sin(declination)))\n"
   ]
  },
  {
   "cell_type": "markdown",
   "metadata": {},
   "source": [
    "Energy received taking into acount the inclinationg of the surface \n",
    "\n",
    "=> G (inclined) = G(horizontal) * Sin (α+β) / Sinα\n",
    "\n",
    "β is the ° of the surface"
   ]
  },
  {
   "cell_type": "code",
   "execution_count": 6,
   "metadata": {
    "collapsed": true
   },
   "outputs": [],
   "source": [
    "def radiation_with_angle_simple(raw_radiation, sun_position, panel_angle):\n",
    "    return raw_radiation * math.sin(sun_position + panel_angle) / math.sin(sun_position)"
   ]
  },
  {
   "cell_type": "markdown",
   "metadata": {},
   "source": []
  }
 ],
 "metadata": {
  "kernelspec": {
   "display_name": "Python 3",
   "language": "python",
   "name": "python3"
  },
  "language_info": {
   "codemirror_mode": {
    "name": "ipython",
    "version": 3.0
   },
   "file_extension": ".py",
   "mimetype": "text/x-python",
   "name": "python",
   "nbconvert_exporter": "python",
   "pygments_lexer": "ipython3",
   "version": "3.6.0"
  }
 },
 "nbformat": 4,
 "nbformat_minor": 0
}